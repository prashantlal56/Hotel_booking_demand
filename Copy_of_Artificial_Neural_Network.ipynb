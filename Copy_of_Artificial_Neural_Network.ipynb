{
  "nbformat": 4,
  "nbformat_minor": 0,
  "metadata": {
    "colab": {
      "name": "Copy of Artificial Neural Network",
      "provenance": [],
      "collapsed_sections": [],
      "toc_visible": true,
      "include_colab_link": true
    },
    "kernelspec": {
      "name": "python3",
      "display_name": "Python 3"
    }
  },
  "cells": [
    {
      "cell_type": "markdown",
      "metadata": {
        "id": "view-in-github",
        "colab_type": "text"
      },
      "source": [
        "<a href=\"https://colab.research.google.com/github/prashantlal56/Hotel_booking_demand/blob/master/Copy_of_Artificial_Neural_Network.ipynb\" target=\"_parent\"><img src=\"https://colab.research.google.com/assets/colab-badge.svg\" alt=\"Open In Colab\"/></a>"
      ]
    },
    {
      "cell_type": "markdown",
      "metadata": {
        "id": "3cbb7fRy-eyr",
        "colab_type": "text"
      },
      "source": [
        "# Artificial Neural Network"
      ]
    },
    {
      "cell_type": "markdown",
      "metadata": {
        "id": "8sNDnxE2-pwE",
        "colab_type": "text"
      },
      "source": [
        "### Importing the libraries"
      ]
    },
    {
      "cell_type": "code",
      "metadata": {
        "id": "9CZa5DuF3z7f",
        "colab_type": "code",
        "colab": {}
      },
      "source": [
        "import numpy as np\n",
        "import pandas as pd\n",
        "import tensorflow as tf"
      ],
      "execution_count": 0,
      "outputs": []
    },
    {
      "cell_type": "code",
      "metadata": {
        "id": "Gx4LzDyo4JLG",
        "colab_type": "code",
        "outputId": "e9534271-cd04-493f-fe74-f66a7f8532b9",
        "colab": {
          "base_uri": "https://localhost:8080/",
          "height": 34
        }
      },
      "source": [
        "tf.__version__"
      ],
      "execution_count": 2,
      "outputs": [
        {
          "output_type": "execute_result",
          "data": {
            "text/plain": [
              "'2.2.0'"
            ]
          },
          "metadata": {
            "tags": []
          },
          "execution_count": 2
        }
      ]
    },
    {
      "cell_type": "markdown",
      "metadata": {
        "id": "AG3FQEch-yuA",
        "colab_type": "text"
      },
      "source": [
        "## Part 1 - Data Preprocessing"
      ]
    },
    {
      "cell_type": "markdown",
      "metadata": {
        "id": "-4zq8Mza_D9O",
        "colab_type": "text"
      },
      "source": [
        "### Importing the dataset"
      ]
    },
    {
      "cell_type": "code",
      "metadata": {
        "id": "4DEu6aRq4wgf",
        "colab_type": "code",
        "colab": {}
      },
      "source": [
        "df = pd.read_excel('Folds5x2_pp.xlsx')\n",
        "X = df.iloc[:,:-1].values\n",
        "y = df.iloc[:,-1].values"
      ],
      "execution_count": 0,
      "outputs": []
    },
    {
      "cell_type": "code",
      "metadata": {
        "id": "D6042ewr7Ayx",
        "colab_type": "code",
        "outputId": "02a81607-97bf-48a6-ce66-1a3fcc4637dc",
        "colab": {
          "base_uri": "https://localhost:8080/",
          "height": 170
        }
      },
      "source": [
        "print(X), print(y)"
      ],
      "execution_count": 5,
      "outputs": [
        {
          "output_type": "stream",
          "text": [
            "[[  14.96   41.76 1024.07   73.17]\n",
            " [  25.18   62.96 1020.04   59.08]\n",
            " [   5.11   39.4  1012.16   92.14]\n",
            " ...\n",
            " [  31.32   74.33 1012.92   36.48]\n",
            " [  24.48   69.45 1013.86   62.39]\n",
            " [  21.6    62.52 1017.23   67.87]]\n",
            "[463.26 444.37 488.56 ... 429.57 435.74 453.28]\n"
          ],
          "name": "stdout"
        },
        {
          "output_type": "execute_result",
          "data": {
            "text/plain": [
              "(None, None)"
            ]
          },
          "metadata": {
            "tags": []
          },
          "execution_count": 5
        }
      ]
    },
    {
      "cell_type": "markdown",
      "metadata": {
        "id": "VC6omXel_Up0",
        "colab_type": "text"
      },
      "source": [
        "### Splitting the dataset into the Training set and Test set"
      ]
    },
    {
      "cell_type": "code",
      "metadata": {
        "id": "xLLdqErI7KQI",
        "colab_type": "code",
        "colab": {}
      },
      "source": [
        "from sklearn.model_selection import train_test_split\n",
        "X_train, X_test, y_train, y_test = train_test_split(X, y, test_size = 0.2, random_state = 0)"
      ],
      "execution_count": 0,
      "outputs": []
    },
    {
      "cell_type": "markdown",
      "metadata": {
        "id": "_mSLlAT9_eyI",
        "colab_type": "text"
      },
      "source": [
        "## Part 2 - Building the ANN"
      ]
    },
    {
      "cell_type": "markdown",
      "metadata": {
        "id": "CsBULd_f_wLY",
        "colab_type": "text"
      },
      "source": [
        "### Initializing the ANN"
      ]
    },
    {
      "cell_type": "code",
      "metadata": {
        "id": "nL70LbYP9Aep",
        "colab_type": "code",
        "colab": {}
      },
      "source": [
        "ann = tf.keras.models.Sequential()"
      ],
      "execution_count": 0,
      "outputs": []
    },
    {
      "cell_type": "markdown",
      "metadata": {
        "id": "iitAFJS_ABUn",
        "colab_type": "text"
      },
      "source": [
        "### Adding the input layer and the first hidden layer"
      ]
    },
    {
      "cell_type": "code",
      "metadata": {
        "id": "PteYzXVG-E3v",
        "colab_type": "code",
        "colab": {}
      },
      "source": [
        "ann.add(tf.keras.layers.Dense(units = 6, activation = 'relu'))"
      ],
      "execution_count": 0,
      "outputs": []
    },
    {
      "cell_type": "markdown",
      "metadata": {
        "id": "-lb4kK_wAKbs",
        "colab_type": "text"
      },
      "source": [
        "### Adding the second hidden layer"
      ]
    },
    {
      "cell_type": "code",
      "metadata": {
        "id": "MubA7Bkh_fpc",
        "colab_type": "code",
        "colab": {}
      },
      "source": [
        "ann.add(tf.keras.layers.Dense(units = 6, activation = 'relu', ))"
      ],
      "execution_count": 0,
      "outputs": []
    },
    {
      "cell_type": "markdown",
      "metadata": {
        "id": "jwMOmKb3AdBY",
        "colab_type": "text"
      },
      "source": [
        "### Adding the output layer"
      ]
    },
    {
      "cell_type": "code",
      "metadata": {
        "id": "ra1e50F_AC8-",
        "colab_type": "code",
        "colab": {}
      },
      "source": [
        "ann.add(tf.keras.layers.Dense(units = 1 ))"
      ],
      "execution_count": 0,
      "outputs": []
    },
    {
      "cell_type": "markdown",
      "metadata": {
        "id": "fq7e4fF6A1yy",
        "colab_type": "text"
      },
      "source": [
        "## Part 3 - Training the ANN"
      ]
    },
    {
      "cell_type": "markdown",
      "metadata": {
        "id": "qDeylAs2An25",
        "colab_type": "text"
      },
      "source": [
        "### Compiling the ANN"
      ]
    },
    {
      "cell_type": "code",
      "metadata": {
        "id": "YSG5WQjIBt9d",
        "colab_type": "code",
        "colab": {}
      },
      "source": [
        "ann.compile(optimizer = 'adam', loss = 'mean_squared_error')"
      ],
      "execution_count": 0,
      "outputs": []
    },
    {
      "cell_type": "markdown",
      "metadata": {
        "id": "YjVuiybYOo7r",
        "colab_type": "text"
      },
      "source": [
        "### Training the ANN model on the Training set"
      ]
    },
    {
      "cell_type": "code",
      "metadata": {
        "id": "Qt_RlBZYIM3Z",
        "colab_type": "code",
        "outputId": "861c49e9-c9d3-449b-d291-bcdc5a486477",
        "colab": {
          "base_uri": "https://localhost:8080/",
          "height": 1000
        }
      },
      "source": [
        "ann.fit(X_train, y_train, epochs=100,  batch_size = 32)"
      ],
      "execution_count": 12,
      "outputs": [
        {
          "output_type": "stream",
          "text": [
            "Epoch 1/100\n",
            "240/240 [==============================] - 0s 1ms/step - loss: 22757.8027\n",
            "Epoch 2/100\n",
            "240/240 [==============================] - 0s 1ms/step - loss: 587.1633\n",
            "Epoch 3/100\n",
            "240/240 [==============================] - 0s 1ms/step - loss: 563.6087\n",
            "Epoch 4/100\n",
            "240/240 [==============================] - 0s 1ms/step - loss: 532.5492\n",
            "Epoch 5/100\n",
            "240/240 [==============================] - 0s 1ms/step - loss: 498.8061\n",
            "Epoch 6/100\n",
            "240/240 [==============================] - 0s 1ms/step - loss: 461.0270\n",
            "Epoch 7/100\n",
            "240/240 [==============================] - 0s 1ms/step - loss: 421.7606\n",
            "Epoch 8/100\n",
            "240/240 [==============================] - 0s 1ms/step - loss: 381.0196\n",
            "Epoch 9/100\n",
            "240/240 [==============================] - 0s 1ms/step - loss: 338.3008\n",
            "Epoch 10/100\n",
            "240/240 [==============================] - 0s 1ms/step - loss: 297.2922\n",
            "Epoch 11/100\n",
            "240/240 [==============================] - 0s 1ms/step - loss: 256.3669\n",
            "Epoch 12/100\n",
            "240/240 [==============================] - 0s 1ms/step - loss: 217.5718\n",
            "Epoch 13/100\n",
            "240/240 [==============================] - 0s 1ms/step - loss: 181.6447\n",
            "Epoch 14/100\n",
            "240/240 [==============================] - 0s 991us/step - loss: 149.0678\n",
            "Epoch 15/100\n",
            "240/240 [==============================] - 0s 971us/step - loss: 120.1022\n",
            "Epoch 16/100\n",
            "240/240 [==============================] - 0s 996us/step - loss: 95.2761\n",
            "Epoch 17/100\n",
            "240/240 [==============================] - 0s 1ms/step - loss: 75.3677\n",
            "Epoch 18/100\n",
            "240/240 [==============================] - 0s 961us/step - loss: 59.7655\n",
            "Epoch 19/100\n",
            "240/240 [==============================] - 0s 980us/step - loss: 48.5625\n",
            "Epoch 20/100\n",
            "240/240 [==============================] - 0s 974us/step - loss: 40.9262\n",
            "Epoch 21/100\n",
            "240/240 [==============================] - 0s 1ms/step - loss: 35.6132\n",
            "Epoch 22/100\n",
            "240/240 [==============================] - 0s 993us/step - loss: 32.1851\n",
            "Epoch 23/100\n",
            "240/240 [==============================] - 0s 950us/step - loss: 30.0649\n",
            "Epoch 24/100\n",
            "240/240 [==============================] - 0s 948us/step - loss: 28.7003\n",
            "Epoch 25/100\n",
            "240/240 [==============================] - 0s 1ms/step - loss: 27.9226\n",
            "Epoch 26/100\n",
            "240/240 [==============================] - 0s 980us/step - loss: 27.5605\n",
            "Epoch 27/100\n",
            "240/240 [==============================] - 0s 1ms/step - loss: 27.0452\n",
            "Epoch 28/100\n",
            "240/240 [==============================] - 0s 966us/step - loss: 27.1077\n",
            "Epoch 29/100\n",
            "240/240 [==============================] - 0s 1ms/step - loss: 26.8675\n",
            "Epoch 30/100\n",
            "240/240 [==============================] - 0s 962us/step - loss: 26.9415\n",
            "Epoch 31/100\n",
            "240/240 [==============================] - 0s 983us/step - loss: 26.8357\n",
            "Epoch 32/100\n",
            "240/240 [==============================] - 0s 975us/step - loss: 26.8268\n",
            "Epoch 33/100\n",
            "240/240 [==============================] - 0s 991us/step - loss: 26.9382\n",
            "Epoch 34/100\n",
            "240/240 [==============================] - 0s 1ms/step - loss: 26.3745\n",
            "Epoch 35/100\n",
            "240/240 [==============================] - 0s 1ms/step - loss: 27.0892\n",
            "Epoch 36/100\n",
            "240/240 [==============================] - 0s 977us/step - loss: 26.7445\n",
            "Epoch 37/100\n",
            "240/240 [==============================] - 0s 1ms/step - loss: 26.8004\n",
            "Epoch 38/100\n",
            "240/240 [==============================] - 0s 1ms/step - loss: 26.9981\n",
            "Epoch 39/100\n",
            "240/240 [==============================] - 0s 1ms/step - loss: 26.8633\n",
            "Epoch 40/100\n",
            "240/240 [==============================] - 0s 983us/step - loss: 27.0655\n",
            "Epoch 41/100\n",
            "240/240 [==============================] - 0s 1ms/step - loss: 26.8802\n",
            "Epoch 42/100\n",
            "240/240 [==============================] - 0s 1ms/step - loss: 27.2667\n",
            "Epoch 43/100\n",
            "240/240 [==============================] - 0s 988us/step - loss: 27.0580\n",
            "Epoch 44/100\n",
            "240/240 [==============================] - 0s 977us/step - loss: 26.6751\n",
            "Epoch 45/100\n",
            "240/240 [==============================] - 0s 994us/step - loss: 26.5534\n",
            "Epoch 46/100\n",
            "240/240 [==============================] - 0s 1ms/step - loss: 26.6980\n",
            "Epoch 47/100\n",
            "240/240 [==============================] - 0s 1ms/step - loss: 26.5687\n",
            "Epoch 48/100\n",
            "240/240 [==============================] - 0s 960us/step - loss: 26.7885\n",
            "Epoch 49/100\n",
            "240/240 [==============================] - 0s 1ms/step - loss: 26.6622\n",
            "Epoch 50/100\n",
            "240/240 [==============================] - 0s 991us/step - loss: 26.7339\n",
            "Epoch 51/100\n",
            "240/240 [==============================] - 0s 1ms/step - loss: 26.8466\n",
            "Epoch 52/100\n",
            "240/240 [==============================] - 0s 1ms/step - loss: 26.7076\n",
            "Epoch 53/100\n",
            "240/240 [==============================] - 0s 1ms/step - loss: 27.3861\n",
            "Epoch 54/100\n",
            "240/240 [==============================] - 0s 1ms/step - loss: 26.4770\n",
            "Epoch 55/100\n",
            "240/240 [==============================] - 0s 1ms/step - loss: 26.3563\n",
            "Epoch 56/100\n",
            "240/240 [==============================] - 0s 1ms/step - loss: 26.6878\n",
            "Epoch 57/100\n",
            "240/240 [==============================] - 0s 1ms/step - loss: 26.7970\n",
            "Epoch 58/100\n",
            "240/240 [==============================] - 0s 1ms/step - loss: 26.5190\n",
            "Epoch 59/100\n",
            "240/240 [==============================] - 0s 979us/step - loss: 27.6223\n",
            "Epoch 60/100\n",
            "240/240 [==============================] - 0s 991us/step - loss: 26.6662\n",
            "Epoch 61/100\n",
            "240/240 [==============================] - 0s 1ms/step - loss: 26.6054\n",
            "Epoch 62/100\n",
            "240/240 [==============================] - 0s 1ms/step - loss: 26.4954\n",
            "Epoch 63/100\n",
            "240/240 [==============================] - 0s 1ms/step - loss: 26.6295\n",
            "Epoch 64/100\n",
            "240/240 [==============================] - 0s 1ms/step - loss: 26.4081\n",
            "Epoch 65/100\n",
            "240/240 [==============================] - 0s 1ms/step - loss: 27.2581\n",
            "Epoch 66/100\n",
            "240/240 [==============================] - 0s 1ms/step - loss: 26.9157\n",
            "Epoch 67/100\n",
            "240/240 [==============================] - 0s 1ms/step - loss: 26.8410\n",
            "Epoch 68/100\n",
            "240/240 [==============================] - 0s 1ms/step - loss: 26.9322\n",
            "Epoch 69/100\n",
            "240/240 [==============================] - 0s 1ms/step - loss: 26.9151\n",
            "Epoch 70/100\n",
            "240/240 [==============================] - 0s 1ms/step - loss: 26.6975\n",
            "Epoch 71/100\n",
            "240/240 [==============================] - 0s 997us/step - loss: 26.7649\n",
            "Epoch 72/100\n",
            "240/240 [==============================] - 0s 1ms/step - loss: 26.5462\n",
            "Epoch 73/100\n",
            "240/240 [==============================] - 0s 1ms/step - loss: 26.6871\n",
            "Epoch 74/100\n",
            "240/240 [==============================] - 0s 1ms/step - loss: 26.9666\n",
            "Epoch 75/100\n",
            "240/240 [==============================] - 0s 1ms/step - loss: 27.2059\n",
            "Epoch 76/100\n",
            "240/240 [==============================] - 0s 1ms/step - loss: 26.3889\n",
            "Epoch 77/100\n",
            "240/240 [==============================] - 0s 1ms/step - loss: 26.3434\n",
            "Epoch 78/100\n",
            "240/240 [==============================] - 0s 1ms/step - loss: 27.1801\n",
            "Epoch 79/100\n",
            "240/240 [==============================] - 0s 991us/step - loss: 26.4011\n",
            "Epoch 80/100\n",
            "240/240 [==============================] - 0s 994us/step - loss: 26.3366\n",
            "Epoch 81/100\n",
            "240/240 [==============================] - 0s 1ms/step - loss: 26.9771\n",
            "Epoch 82/100\n",
            "240/240 [==============================] - 0s 1ms/step - loss: 26.8715\n",
            "Epoch 83/100\n",
            "240/240 [==============================] - 0s 978us/step - loss: 26.6046\n",
            "Epoch 84/100\n",
            "240/240 [==============================] - 0s 1ms/step - loss: 27.1020\n",
            "Epoch 85/100\n",
            "240/240 [==============================] - 0s 1ms/step - loss: 27.1729\n",
            "Epoch 86/100\n",
            "240/240 [==============================] - 0s 1ms/step - loss: 26.7105\n",
            "Epoch 87/100\n",
            "240/240 [==============================] - 0s 978us/step - loss: 27.3990\n",
            "Epoch 88/100\n",
            "240/240 [==============================] - 0s 1ms/step - loss: 26.8745\n",
            "Epoch 89/100\n",
            "240/240 [==============================] - 0s 997us/step - loss: 27.8838\n",
            "Epoch 90/100\n",
            "240/240 [==============================] - 0s 1ms/step - loss: 26.5435\n",
            "Epoch 91/100\n",
            "240/240 [==============================] - 0s 984us/step - loss: 26.7509\n",
            "Epoch 92/100\n",
            "240/240 [==============================] - 0s 1ms/step - loss: 26.8546\n",
            "Epoch 93/100\n",
            "240/240 [==============================] - 0s 998us/step - loss: 26.7642\n",
            "Epoch 94/100\n",
            "240/240 [==============================] - 0s 1ms/step - loss: 26.4661\n",
            "Epoch 95/100\n",
            "240/240 [==============================] - 0s 984us/step - loss: 26.6048\n",
            "Epoch 96/100\n",
            "240/240 [==============================] - 0s 982us/step - loss: 26.8898\n",
            "Epoch 97/100\n",
            "240/240 [==============================] - 0s 1ms/step - loss: 26.5414\n",
            "Epoch 98/100\n",
            "240/240 [==============================] - 0s 1ms/step - loss: 27.1148\n",
            "Epoch 99/100\n",
            "240/240 [==============================] - 0s 1ms/step - loss: 26.3172\n",
            "Epoch 100/100\n",
            "240/240 [==============================] - 0s 1ms/step - loss: 26.7633\n"
          ],
          "name": "stdout"
        },
        {
          "output_type": "execute_result",
          "data": {
            "text/plain": [
              "<tensorflow.python.keras.callbacks.History at 0x7f6cd8952438>"
            ]
          },
          "metadata": {
            "tags": []
          },
          "execution_count": 12
        }
      ]
    },
    {
      "cell_type": "markdown",
      "metadata": {
        "id": "0H0zKKNEBLD5",
        "colab_type": "text"
      },
      "source": [
        "### Predicting the results of the Test set"
      ]
    },
    {
      "cell_type": "code",
      "metadata": {
        "id": "ZK3Nbzu_QfPL",
        "colab_type": "code",
        "colab": {
          "base_uri": "https://localhost:8080/",
          "height": 136
        },
        "outputId": "aea41b0b-5fba-482b-f039-da94d4d93a39"
      },
      "source": [
        "y_pred = ann.predict(X_test)\n",
        "np.set_printoptions(precision=2)\n",
        "print(np.concatenate((y_pred.reshape(len(y_pred),1), y_test.reshape(len(y_test),1)),1))"
      ],
      "execution_count": 23,
      "outputs": [
        {
          "output_type": "stream",
          "text": [
            "[[429.72 431.23]\n",
            " [460.66 460.01]\n",
            " [464.11 461.14]\n",
            " ...\n",
            " [471.4  473.26]\n",
            " [438.23 438.  ]\n",
            " [457.42 463.28]]\n"
          ],
          "name": "stdout"
        }
      ]
    },
    {
      "cell_type": "code",
      "metadata": {
        "id": "RLVAinUntHJF",
        "colab_type": "code",
        "colab": {}
      },
      "source": [
        ""
      ],
      "execution_count": 0,
      "outputs": []
    }
  ]
}